{
 "cells": [
  {
   "cell_type": "code",
   "execution_count": 1,
   "id": "4aa9e6ed",
   "metadata": {},
   "outputs": [],
   "source": [
    "import pandas as pd\n",
    "import numpy as np\n",
    "import seaborn as sns\n",
    "import matplotlib.pyplot as plt\n",
    "%matplotlib inline\n",
    "from sklearn import metrics"
   ]
  },
  {
   "cell_type": "code",
   "execution_count": 2,
   "id": "44d3c79e",
   "metadata": {},
   "outputs": [],
   "source": [
    "df = pd.read_csv('Test_drug_prediction.csv',index_col=0)"
   ]
  },
  {
   "cell_type": "code",
   "execution_count": 3,
   "id": "dae06980",
   "metadata": {},
   "outputs": [
    {
     "data": {
      "text/html": [
       "<div>\n",
       "<style scoped>\n",
       "    .dataframe tbody tr th:only-of-type {\n",
       "        vertical-align: middle;\n",
       "    }\n",
       "\n",
       "    .dataframe tbody tr th {\n",
       "        vertical-align: top;\n",
       "    }\n",
       "\n",
       "    .dataframe thead th {\n",
       "        text-align: right;\n",
       "    }\n",
       "</style>\n",
       "<table border=\"1\" class=\"dataframe\">\n",
       "  <thead>\n",
       "    <tr style=\"text-align: right;\">\n",
       "      <th></th>\n",
       "      <th>target</th>\n",
       "      <th>LOC729737</th>\n",
       "      <th>CICP3</th>\n",
       "      <th>LOC101060494</th>\n",
       "      <th>LINC00115</th>\n",
       "      <th>LINC01128</th>\n",
       "      <th>LOC284600</th>\n",
       "      <th>LOC100130417</th>\n",
       "      <th>SAMD11</th>\n",
       "      <th>NOC2L</th>\n",
       "      <th>...</th>\n",
       "      <th>MAFIP</th>\n",
       "      <th>LOC283788</th>\n",
       "      <th>KIR3DS1</th>\n",
       "      <th>LOC100507412</th>\n",
       "      <th>KIR2DS5</th>\n",
       "      <th>LOC100288966</th>\n",
       "      <th>KIR2DS1</th>\n",
       "      <th>MGC70870</th>\n",
       "      <th>HLA.DRB4</th>\n",
       "      <th>HLA.DRB3</th>\n",
       "    </tr>\n",
       "  </thead>\n",
       "  <tbody>\n",
       "    <tr>\n",
       "      <th>1</th>\n",
       "      <td>2.646123</td>\n",
       "      <td>8.616</td>\n",
       "      <td>6.249</td>\n",
       "      <td>5.054</td>\n",
       "      <td>2.287</td>\n",
       "      <td>6.513</td>\n",
       "      <td>7.131</td>\n",
       "      <td>5.631</td>\n",
       "      <td>6.570</td>\n",
       "      <td>8.032</td>\n",
       "      <td>...</td>\n",
       "      <td>6.635</td>\n",
       "      <td>3.530</td>\n",
       "      <td>2.286</td>\n",
       "      <td>8.587</td>\n",
       "      <td>2.428</td>\n",
       "      <td>6.242</td>\n",
       "      <td>2.186</td>\n",
       "      <td>6.282</td>\n",
       "      <td>2.641</td>\n",
       "      <td>4.487</td>\n",
       "    </tr>\n",
       "    <tr>\n",
       "      <th>2</th>\n",
       "      <td>2.510278</td>\n",
       "      <td>8.876</td>\n",
       "      <td>6.623</td>\n",
       "      <td>5.462</td>\n",
       "      <td>2.446</td>\n",
       "      <td>7.144</td>\n",
       "      <td>6.936</td>\n",
       "      <td>6.677</td>\n",
       "      <td>7.317</td>\n",
       "      <td>8.142</td>\n",
       "      <td>...</td>\n",
       "      <td>6.185</td>\n",
       "      <td>3.158</td>\n",
       "      <td>2.286</td>\n",
       "      <td>8.106</td>\n",
       "      <td>2.400</td>\n",
       "      <td>6.342</td>\n",
       "      <td>2.141</td>\n",
       "      <td>5.654</td>\n",
       "      <td>2.541</td>\n",
       "      <td>5.107</td>\n",
       "    </tr>\n",
       "    <tr>\n",
       "      <th>3</th>\n",
       "      <td>1.612207</td>\n",
       "      <td>9.265</td>\n",
       "      <td>6.461</td>\n",
       "      <td>6.320</td>\n",
       "      <td>2.288</td>\n",
       "      <td>7.004</td>\n",
       "      <td>7.306</td>\n",
       "      <td>6.100</td>\n",
       "      <td>7.144</td>\n",
       "      <td>8.794</td>\n",
       "      <td>...</td>\n",
       "      <td>6.337</td>\n",
       "      <td>2.797</td>\n",
       "      <td>2.286</td>\n",
       "      <td>9.080</td>\n",
       "      <td>2.286</td>\n",
       "      <td>6.242</td>\n",
       "      <td>2.286</td>\n",
       "      <td>5.968</td>\n",
       "      <td>2.616</td>\n",
       "      <td>4.057</td>\n",
       "    </tr>\n",
       "    <tr>\n",
       "      <th>4</th>\n",
       "      <td>1.517873</td>\n",
       "      <td>9.371</td>\n",
       "      <td>6.227</td>\n",
       "      <td>6.728</td>\n",
       "      <td>2.287</td>\n",
       "      <td>7.244</td>\n",
       "      <td>7.329</td>\n",
       "      <td>5.535</td>\n",
       "      <td>6.379</td>\n",
       "      <td>8.151</td>\n",
       "      <td>...</td>\n",
       "      <td>6.028</td>\n",
       "      <td>3.333</td>\n",
       "      <td>2.286</td>\n",
       "      <td>8.219</td>\n",
       "      <td>2.408</td>\n",
       "      <td>6.394</td>\n",
       "      <td>2.144</td>\n",
       "      <td>8.205</td>\n",
       "      <td>2.452</td>\n",
       "      <td>4.458</td>\n",
       "    </tr>\n",
       "    <tr>\n",
       "      <th>5</th>\n",
       "      <td>1.200902</td>\n",
       "      <td>8.413</td>\n",
       "      <td>6.233</td>\n",
       "      <td>3.416</td>\n",
       "      <td>2.291</td>\n",
       "      <td>6.554</td>\n",
       "      <td>7.438</td>\n",
       "      <td>6.160</td>\n",
       "      <td>7.233</td>\n",
       "      <td>8.042</td>\n",
       "      <td>...</td>\n",
       "      <td>6.065</td>\n",
       "      <td>3.235</td>\n",
       "      <td>2.286</td>\n",
       "      <td>8.715</td>\n",
       "      <td>2.429</td>\n",
       "      <td>6.708</td>\n",
       "      <td>2.184</td>\n",
       "      <td>5.825</td>\n",
       "      <td>2.612</td>\n",
       "      <td>4.517</td>\n",
       "    </tr>\n",
       "  </tbody>\n",
       "</table>\n",
       "<p>5 rows × 23060 columns</p>\n",
       "</div>"
      ],
      "text/plain": [
       "     target  LOC729737  CICP3  LOC101060494  LINC00115  LINC01128  LOC284600  \\\n",
       "1  2.646123      8.616  6.249         5.054      2.287      6.513      7.131   \n",
       "2  2.510278      8.876  6.623         5.462      2.446      7.144      6.936   \n",
       "3  1.612207      9.265  6.461         6.320      2.288      7.004      7.306   \n",
       "4  1.517873      9.371  6.227         6.728      2.287      7.244      7.329   \n",
       "5  1.200902      8.413  6.233         3.416      2.291      6.554      7.438   \n",
       "\n",
       "   LOC100130417  SAMD11  NOC2L  ...  MAFIP  LOC283788  KIR3DS1  LOC100507412  \\\n",
       "1         5.631   6.570  8.032  ...  6.635      3.530    2.286         8.587   \n",
       "2         6.677   7.317  8.142  ...  6.185      3.158    2.286         8.106   \n",
       "3         6.100   7.144  8.794  ...  6.337      2.797    2.286         9.080   \n",
       "4         5.535   6.379  8.151  ...  6.028      3.333    2.286         8.219   \n",
       "5         6.160   7.233  8.042  ...  6.065      3.235    2.286         8.715   \n",
       "\n",
       "   KIR2DS5  LOC100288966  KIR2DS1  MGC70870  HLA.DRB4  HLA.DRB3  \n",
       "1    2.428         6.242    2.186     6.282     2.641     4.487  \n",
       "2    2.400         6.342    2.141     5.654     2.541     5.107  \n",
       "3    2.286         6.242    2.286     5.968     2.616     4.057  \n",
       "4    2.408         6.394    2.144     8.205     2.452     4.458  \n",
       "5    2.429         6.708    2.184     5.825     2.612     4.517  \n",
       "\n",
       "[5 rows x 23060 columns]"
      ]
     },
     "execution_count": 3,
     "metadata": {},
     "output_type": "execute_result"
    }
   ],
   "source": [
    "df.head()"
   ]
  },
  {
   "cell_type": "code",
   "execution_count": 4,
   "id": "8872be29",
   "metadata": {},
   "outputs": [
    {
     "data": {
      "text/plain": [
       "(51, 23060)"
      ]
     },
     "execution_count": 4,
     "metadata": {},
     "output_type": "execute_result"
    }
   ],
   "source": [
    "# check the shape of dataframe\n",
    "df.shape"
   ]
  },
  {
   "cell_type": "code",
   "execution_count": 5,
   "id": "3ac3fbbe",
   "metadata": {},
   "outputs": [
    {
     "name": "stdout",
     "output_type": "stream",
     "text": [
      "<class 'pandas.core.frame.DataFrame'>\n",
      "Int64Index: 51 entries, 1 to 51\n",
      "Columns: 23060 entries, target to HLA.DRB3\n",
      "dtypes: float64(23060)\n",
      "memory usage: 9.0 MB\n"
     ]
    }
   ],
   "source": [
    "\n",
    "df.info()"
   ]
  },
  {
   "cell_type": "code",
   "execution_count": 6,
   "id": "79fe6964",
   "metadata": {},
   "outputs": [
    {
     "data": {
      "text/plain": [
       "target          0\n",
       "LOC729737       0\n",
       "CICP3           0\n",
       "LOC101060494    0\n",
       "LINC00115       0\n",
       "               ..\n",
       "LOC100288966    0\n",
       "KIR2DS1         0\n",
       "MGC70870        0\n",
       "HLA.DRB4        0\n",
       "HLA.DRB3        0\n",
       "Length: 23060, dtype: int64"
      ]
     },
     "execution_count": 6,
     "metadata": {},
     "output_type": "execute_result"
    }
   ],
   "source": [
    "df.isnull().sum()"
   ]
  },
  {
   "cell_type": "code",
   "execution_count": 7,
   "id": "64439d9d",
   "metadata": {},
   "outputs": [
    {
     "data": {
      "text/html": [
       "<div>\n",
       "<style scoped>\n",
       "    .dataframe tbody tr th:only-of-type {\n",
       "        vertical-align: middle;\n",
       "    }\n",
       "\n",
       "    .dataframe tbody tr th {\n",
       "        vertical-align: top;\n",
       "    }\n",
       "\n",
       "    .dataframe thead th {\n",
       "        text-align: right;\n",
       "    }\n",
       "</style>\n",
       "<table border=\"1\" class=\"dataframe\">\n",
       "  <thead>\n",
       "    <tr style=\"text-align: right;\">\n",
       "      <th></th>\n",
       "      <th>target</th>\n",
       "      <th>LOC729737</th>\n",
       "      <th>CICP3</th>\n",
       "      <th>LOC101060494</th>\n",
       "      <th>LINC00115</th>\n",
       "      <th>LINC01128</th>\n",
       "      <th>LOC284600</th>\n",
       "      <th>LOC100130417</th>\n",
       "      <th>SAMD11</th>\n",
       "      <th>NOC2L</th>\n",
       "      <th>...</th>\n",
       "      <th>MAFIP</th>\n",
       "      <th>LOC283788</th>\n",
       "      <th>KIR3DS1</th>\n",
       "      <th>LOC100507412</th>\n",
       "      <th>KIR2DS5</th>\n",
       "      <th>LOC100288966</th>\n",
       "      <th>KIR2DS1</th>\n",
       "      <th>MGC70870</th>\n",
       "      <th>HLA.DRB4</th>\n",
       "      <th>HLA.DRB3</th>\n",
       "    </tr>\n",
       "  </thead>\n",
       "  <tbody>\n",
       "    <tr>\n",
       "      <th>1</th>\n",
       "      <td>2.646123</td>\n",
       "      <td>8.616</td>\n",
       "      <td>6.249</td>\n",
       "      <td>5.054</td>\n",
       "      <td>2.287</td>\n",
       "      <td>6.513</td>\n",
       "      <td>7.131</td>\n",
       "      <td>5.631</td>\n",
       "      <td>6.570</td>\n",
       "      <td>8.032</td>\n",
       "      <td>...</td>\n",
       "      <td>6.635</td>\n",
       "      <td>3.530</td>\n",
       "      <td>2.286</td>\n",
       "      <td>8.587</td>\n",
       "      <td>2.428</td>\n",
       "      <td>6.242</td>\n",
       "      <td>2.186</td>\n",
       "      <td>6.282</td>\n",
       "      <td>2.641</td>\n",
       "      <td>4.487</td>\n",
       "    </tr>\n",
       "    <tr>\n",
       "      <th>2</th>\n",
       "      <td>2.510278</td>\n",
       "      <td>8.876</td>\n",
       "      <td>6.623</td>\n",
       "      <td>5.462</td>\n",
       "      <td>2.446</td>\n",
       "      <td>7.144</td>\n",
       "      <td>6.936</td>\n",
       "      <td>6.677</td>\n",
       "      <td>7.317</td>\n",
       "      <td>8.142</td>\n",
       "      <td>...</td>\n",
       "      <td>6.185</td>\n",
       "      <td>3.158</td>\n",
       "      <td>2.286</td>\n",
       "      <td>8.106</td>\n",
       "      <td>2.400</td>\n",
       "      <td>6.342</td>\n",
       "      <td>2.141</td>\n",
       "      <td>5.654</td>\n",
       "      <td>2.541</td>\n",
       "      <td>5.107</td>\n",
       "    </tr>\n",
       "    <tr>\n",
       "      <th>3</th>\n",
       "      <td>1.612207</td>\n",
       "      <td>9.265</td>\n",
       "      <td>6.461</td>\n",
       "      <td>6.320</td>\n",
       "      <td>2.288</td>\n",
       "      <td>7.004</td>\n",
       "      <td>7.306</td>\n",
       "      <td>6.100</td>\n",
       "      <td>7.144</td>\n",
       "      <td>8.794</td>\n",
       "      <td>...</td>\n",
       "      <td>6.337</td>\n",
       "      <td>2.797</td>\n",
       "      <td>2.286</td>\n",
       "      <td>9.080</td>\n",
       "      <td>2.286</td>\n",
       "      <td>6.242</td>\n",
       "      <td>2.286</td>\n",
       "      <td>5.968</td>\n",
       "      <td>2.616</td>\n",
       "      <td>4.057</td>\n",
       "    </tr>\n",
       "    <tr>\n",
       "      <th>4</th>\n",
       "      <td>1.517873</td>\n",
       "      <td>9.371</td>\n",
       "      <td>6.227</td>\n",
       "      <td>6.728</td>\n",
       "      <td>2.287</td>\n",
       "      <td>7.244</td>\n",
       "      <td>7.329</td>\n",
       "      <td>5.535</td>\n",
       "      <td>6.379</td>\n",
       "      <td>8.151</td>\n",
       "      <td>...</td>\n",
       "      <td>6.028</td>\n",
       "      <td>3.333</td>\n",
       "      <td>2.286</td>\n",
       "      <td>8.219</td>\n",
       "      <td>2.408</td>\n",
       "      <td>6.394</td>\n",
       "      <td>2.144</td>\n",
       "      <td>8.205</td>\n",
       "      <td>2.452</td>\n",
       "      <td>4.458</td>\n",
       "    </tr>\n",
       "    <tr>\n",
       "      <th>5</th>\n",
       "      <td>1.200902</td>\n",
       "      <td>8.413</td>\n",
       "      <td>6.233</td>\n",
       "      <td>3.416</td>\n",
       "      <td>2.291</td>\n",
       "      <td>6.554</td>\n",
       "      <td>7.438</td>\n",
       "      <td>6.160</td>\n",
       "      <td>7.233</td>\n",
       "      <td>8.042</td>\n",
       "      <td>...</td>\n",
       "      <td>6.065</td>\n",
       "      <td>3.235</td>\n",
       "      <td>2.286</td>\n",
       "      <td>8.715</td>\n",
       "      <td>2.429</td>\n",
       "      <td>6.708</td>\n",
       "      <td>2.184</td>\n",
       "      <td>5.825</td>\n",
       "      <td>2.612</td>\n",
       "      <td>4.517</td>\n",
       "    </tr>\n",
       "  </tbody>\n",
       "</table>\n",
       "<p>5 rows × 23060 columns</p>\n",
       "</div>"
      ],
      "text/plain": [
       "     target  LOC729737  CICP3  LOC101060494  LINC00115  LINC01128  LOC284600  \\\n",
       "1  2.646123      8.616  6.249         5.054      2.287      6.513      7.131   \n",
       "2  2.510278      8.876  6.623         5.462      2.446      7.144      6.936   \n",
       "3  1.612207      9.265  6.461         6.320      2.288      7.004      7.306   \n",
       "4  1.517873      9.371  6.227         6.728      2.287      7.244      7.329   \n",
       "5  1.200902      8.413  6.233         3.416      2.291      6.554      7.438   \n",
       "\n",
       "   LOC100130417  SAMD11  NOC2L  ...  MAFIP  LOC283788  KIR3DS1  LOC100507412  \\\n",
       "1         5.631   6.570  8.032  ...  6.635      3.530    2.286         8.587   \n",
       "2         6.677   7.317  8.142  ...  6.185      3.158    2.286         8.106   \n",
       "3         6.100   7.144  8.794  ...  6.337      2.797    2.286         9.080   \n",
       "4         5.535   6.379  8.151  ...  6.028      3.333    2.286         8.219   \n",
       "5         6.160   7.233  8.042  ...  6.065      3.235    2.286         8.715   \n",
       "\n",
       "   KIR2DS5  LOC100288966  KIR2DS1  MGC70870  HLA.DRB4  HLA.DRB3  \n",
       "1    2.428         6.242    2.186     6.282     2.641     4.487  \n",
       "2    2.400         6.342    2.141     5.654     2.541     5.107  \n",
       "3    2.286         6.242    2.286     5.968     2.616     4.057  \n",
       "4    2.408         6.394    2.144     8.205     2.452     4.458  \n",
       "5    2.429         6.708    2.184     5.825     2.612     4.517  \n",
       "\n",
       "[5 rows x 23060 columns]"
      ]
     },
     "execution_count": 7,
     "metadata": {},
     "output_type": "execute_result"
    }
   ],
   "source": [
    "df.head()"
   ]
  },
  {
   "cell_type": "code",
   "execution_count": 8,
   "id": "5033962a",
   "metadata": {},
   "outputs": [],
   "source": [
    "# df['see'] = df['target'].map(lambda x:'HS' if x >1 else 'HR' )"
   ]
  },
  {
   "cell_type": "code",
   "execution_count": 9,
   "id": "1d4c120b",
   "metadata": {},
   "outputs": [],
   "source": [
    "df['target']=df['target'].map(lambda x: 'HR' if str(x)[0]=='-' and len(str(x))>1 else 'HS')"
   ]
  },
  {
   "cell_type": "code",
   "execution_count": 10,
   "id": "ca6730c6",
   "metadata": {},
   "outputs": [
    {
     "data": {
      "text/plain": [
       "HS    27\n",
       "HR    24\n",
       "Name: target, dtype: int64"
      ]
     },
     "execution_count": 10,
     "metadata": {},
     "output_type": "execute_result"
    }
   ],
   "source": [
    "df['target'].value_counts()"
   ]
  },
  {
   "cell_type": "code",
   "execution_count": 11,
   "id": "9ab94731",
   "metadata": {},
   "outputs": [
    {
     "data": {
      "text/plain": [
       "<AxesSubplot:xlabel='target', ylabel='count'>"
      ]
     },
     "execution_count": 11,
     "metadata": {},
     "output_type": "execute_result"
    },
    {
     "data": {
      "image/png": "[encoded data removed]",
      "text/plain": [
       "<Figure size 432x288 with 1 Axes>"
      ]
     },
     "metadata": {
      "needs_background": "light"
     },
     "output_type": "display_data"
    }
   ],
   "source": [
    "sns.countplot(x='target',data=df,palette='hls')"
   ]
  },
  {
   "cell_type": "code",
   "execution_count": 12,
   "id": "d943c2d8",
   "metadata": {},
   "outputs": [],
   "source": [
    "df['target'].replace({'HS':1,'HR':0},inplace=True)"
   ]
  },
  {
   "cell_type": "code",
   "execution_count": 13,
   "id": "08179891",
   "metadata": {},
   "outputs": [],
   "source": [
    "X = df.drop(['target'],axis=1)\n",
    "y = df.target"
   ]
  },
  {
   "cell_type": "code",
   "execution_count": 14,
   "id": "e093635c",
   "metadata": {},
   "outputs": [
    {
     "data": {
      "text/plain": [
       "(51, 23059)"
      ]
     },
     "execution_count": 14,
     "metadata": {},
     "output_type": "execute_result"
    }
   ],
   "source": [
    "X.shape"
   ]
  },
  {
   "cell_type": "code",
   "execution_count": 15,
   "id": "55aa1b0a",
   "metadata": {},
   "outputs": [],
   "source": [
    "# split the dataset\n",
    "from sklearn.model_selection import train_test_split\n",
    "X_train, X_test, y_train, y_test = train_test_split(X, y, test_size=0.20, \n",
    "                                                    shuffle=True, random_state=2)"
   ]
  },
  {
   "cell_type": "code",
   "execution_count": 16,
   "id": "653b9da4",
   "metadata": {},
   "outputs": [],
   "source": [
    "# Initialize the logistic regression model\n",
    "from sklearn.linear_model import LogisticRegression\n",
    "clf = LogisticRegression(max_iter=2500)\n",
    "\n",
    "# Train the model\n",
    "clf.fit(X_train, y_train)\n",
    "\n",
    "# Make predictions\n",
    "y_pred = clf.predict(X_test)"
   ]
  },
  {
   "cell_type": "code",
   "execution_count": 17,
   "id": "2d10fcee",
   "metadata": {},
   "outputs": [
    {
     "name": "stdout",
     "output_type": "stream",
     "text": [
      "Train accuracy: 1.0\n",
      "Test accuracy: 0.2727272727272727\n",
      "Precision: 0.3333333333333333\n",
      "Recall: 0.3333333333333333\n",
      "Classification Report\n",
      "               precision    recall  f1-score   support\n",
      "\n",
      "           0       0.20      0.20      0.20         5\n",
      "           1       0.33      0.33      0.33         6\n",
      "\n",
      "    accuracy                           0.27        11\n",
      "   macro avg       0.27      0.27      0.27        11\n",
      "weighted avg       0.27      0.27      0.27        11\n",
      "\n"
     ]
    }
   ],
   "source": [
    "# Measure accuracy\n",
    "from sklearn.metrics import accuracy_score\n",
    "import numpy as np\n",
    "print(\"Train accuracy:\", accuracy_score(y_train,clf.predict(X_train)))\n",
    "print(\"Test accuracy:\", accuracy_score(y_test, y_pred))\n",
    "print(\"Precision:\",metrics.precision_score(y_test, y_pred))\n",
    "print(\"Recall:\",metrics.recall_score(y_test, y_pred))\n",
    "print(\"Classification Report\\n\",metrics.classification_report(y_test, y_pred))"
   ]
  },
  {
   "cell_type": "code",
   "execution_count": 18,
   "id": "efc6eba3",
   "metadata": {},
   "outputs": [
    {
     "name": "stdout",
     "output_type": "stream",
     "text": [
      "\n",
      "Test confusion_matrix\n"
     ]
    },
    {
     "data": {
      "text/plain": [
       "Text(33.0, 0.5, 'True')"
      ]
     },
     "execution_count": 18,
     "metadata": {},
     "output_type": "execute_result"
    },
    {
     "data": {
      "image/png": "[encoded data removed]",
      "text/plain": [
       "<Figure size 432x288 with 2 Axes>"
      ]
     },
     "metadata": {
      "needs_background": "light"
     },
     "output_type": "display_data"
    }
   ],
   "source": [
    "# Make the confusion matrix\n",
    "from sklearn.metrics import confusion_matrix\n",
    "cf_matrix = confusion_matrix(y_test, y_pred)\n",
    "print(\"\\nTest confusion_matrix\")\n",
    "sns.heatmap(cf_matrix, annot=True, cmap='Reds')\n",
    "plt.xlabel('Predicted', fontsize=12)\n",
    "plt.ylabel('True', fontsize=12)"
   ]
  },
  {
   "cell_type": "markdown",
   "id": "5ce8a3ac",
   "metadata": {},
   "source": [
    "### Applying PCA for dimensionality reduction"
   ]
  },
  {
   "cell_type": "code",
   "execution_count": 19,
   "id": "62f82aa0",
   "metadata": {},
   "outputs": [],
   "source": [
    "from sklearn.preprocessing import StandardScaler\n",
    "sc = StandardScaler()\n",
    "X_scaled = sc.fit_transform(X)"
   ]
  },
  {
   "cell_type": "code",
   "execution_count": 20,
   "id": "a20be7b4",
   "metadata": {},
   "outputs": [
    {
     "data": {
      "text/plain": [
       "PCA()"
      ]
     },
     "execution_count": 20,
     "metadata": {},
     "output_type": "execute_result"
    }
   ],
   "source": [
    "# Apply PCA\n",
    "from sklearn.decomposition import PCA\n",
    "pca = PCA(n_components=None)\n",
    "pca.fit(X_scaled)"
   ]
  },
  {
   "cell_type": "code",
   "execution_count": 21,
   "id": "174df9db",
   "metadata": {},
   "outputs": [
    {
     "name": "stdout",
     "output_type": "stream",
     "text": [
      "Eigenvalues:\n",
      "[2.53069720e+03 1.90834033e+03 1.12258232e+03 9.89249359e+02\n",
      " 9.36812308e+02 8.36339728e+02 7.59102046e+02 7.06834207e+02\n",
      " 6.32349884e+02 6.06239597e+02 5.59092351e+02 5.27535591e+02\n",
      " 5.04939738e+02 4.77490534e+02 4.51086860e+02 4.43022226e+02\n",
      " 4.26823847e+02 4.20825656e+02 4.06216469e+02 3.95478543e+02\n",
      " 3.82070863e+02 3.74624220e+02 3.59691733e+02 3.45262409e+02\n",
      " 3.44213106e+02 3.38329724e+02 3.23340279e+02 3.18389572e+02\n",
      " 3.10271779e+02 2.94834726e+02 2.91095930e+02 2.88290055e+02\n",
      " 2.81325232e+02 2.75985685e+02 2.67732045e+02 2.65994255e+02\n",
      " 2.54323505e+02 2.47230592e+02 2.39962374e+02 2.35837830e+02\n",
      " 2.25189037e+02 2.17237615e+02 2.12208306e+02 2.06105957e+02\n",
      " 1.98348807e+02 1.83841300e+02 1.74021344e+02 1.60236574e+02\n",
      " 1.49966654e+02 1.12139707e+02 2.08010818e-27]\n",
      "\n",
      "Variances (Percentage):\n",
      "[1.07601513e+01 8.11398165e+00 4.77305449e+00 4.20614239e+00\n",
      " 3.98318778e+00 3.55599319e+00 3.22758995e+00 3.00535481e+00\n",
      " 2.68865846e+00 2.57764136e+00 2.37717823e+00 2.24300354e+00\n",
      " 2.14692930e+00 2.03021933e+00 1.91795481e+00 1.88366517e+00\n",
      " 1.81479206e+00 1.78928863e+00 1.72717252e+00 1.68151644e+00\n",
      " 1.62450897e+00 1.59284694e+00 1.52935621e+00 1.46800485e+00\n",
      " 1.46354337e+00 1.43852809e+00 1.37479518e+00 1.35374551e+00\n",
      " 1.31922985e+00 1.25359378e+00 1.23769697e+00 1.22576680e+00\n",
      " 1.19615340e+00 1.17345043e+00 1.13835717e+00 1.13096835e+00\n",
      " 1.08134604e+00 1.05118802e+00 1.02028463e+00 1.00274767e+00\n",
      " 9.57470576e-01 9.23662306e-01 9.02278421e-01 8.76332134e-01\n",
      " 8.43349875e-01 7.81666097e-01 7.39913091e-01 6.81302283e-01\n",
      " 6.37636097e-01 4.76801498e-01 8.84431325e-30]\n",
      "\n"
     ]
    },
    {
     "data": {
      "image/png": "[encoded data removed]",
      "text/plain": [
       "<Figure size 432x288 with 1 Axes>"
      ]
     },
     "metadata": {
      "needs_background": "light"
     },
     "output_type": "display_data"
    }
   ],
   "source": [
    "# Get the eigenvalues\n",
    "print(\"Eigenvalues:\")\n",
    "print(pca.explained_variance_)\n",
    "print()\n",
    "\n",
    "# Get explained variances\n",
    "print(\"Variances (Percentage):\")\n",
    "print(pca.explained_variance_ratio_ * 100)\n",
    "print()\n",
    "\n",
    "# Make the scree plot\n",
    "plt.plot(np.cumsum(pca.explained_variance_ratio_ * 100))\n",
    "plt.xlabel(\"Number of components (Dimensions)\")\n",
    "plt.ylabel(\"Explained variance (%)\")\n",
    "plt.show()"
   ]
  },
  {
   "cell_type": "code",
   "execution_count": 22,
   "id": "daa0531f",
   "metadata": {},
   "outputs": [
    {
     "name": "stdout",
     "output_type": "stream",
     "text": [
      "The number of dimensions required to preserve 90% of variance is 38\n"
     ]
    }
   ],
   "source": [
    "\n",
    "cumsum = np.cumsum(pca.explained_variance_ratio_)\n",
    "dim = np.argmax(cumsum >= 0.90) + 1\n",
    "print('The number of dimensions required to preserve 90% of variance is',dim)"
   ]
  },
  {
   "cell_type": "code",
   "execution_count": 23,
   "id": "894b780e",
   "metadata": {},
   "outputs": [
    {
     "name": "stdout",
     "output_type": "stream",
     "text": [
      "          0          1          2          3          4          5   \\\n",
      "0 -26.387038  17.885021 -19.218873  15.009501 -13.099040  15.220959   \n",
      "1 -75.707965 -46.515844 -14.413862  25.617065  13.869636 -41.578213   \n",
      "2  23.661726  21.602001   1.260864 -54.004438  10.119403  35.844762   \n",
      "3 -32.215342  17.578032 -15.117318 -31.448696  -9.112218  -9.140470   \n",
      "4 -62.811141  20.631005 -33.338054  27.991620 -14.376955  15.270549   \n",
      "\n",
      "          6          7          8          9   ...         28         29  \\\n",
      "0  44.110563 -46.014423   6.652818 -12.016816  ...  15.682684 -17.510863   \n",
      "1 -20.389883   9.698321  11.963878  -8.704265  ...  -6.220903  16.532756   \n",
      "2  56.807089 -25.958126  -8.200569 -45.583283  ...  21.656777 -16.260326   \n",
      "3  25.639791  -9.762634   6.833441  14.600798  ...  -3.178336 -10.186815   \n",
      "4  43.929721 -34.107979   7.169905   0.097058  ...   1.274969   7.765100   \n",
      "\n",
      "          30         31         32         33         34         35  \\\n",
      "0  11.918715 -11.907930 -29.163956   2.096838 -23.048870  -2.115188   \n",
      "1  -5.489390   1.943568 -26.269231   6.837614  30.841667   4.523624   \n",
      "2 -25.033330   4.890453   7.968468  26.142525  12.211163 -13.289877   \n",
      "3 -22.024021  27.130672  58.339235  30.704973  18.803619  19.318179   \n",
      "4  10.284499  -4.000410 -16.142271  17.125464   4.760800  -7.605033   \n",
      "\n",
      "          36         37  \n",
      "0   8.923897 -14.681701  \n",
      "1 -13.979425 -36.527172  \n",
      "2   1.850269  10.060127  \n",
      "3  18.016378 -18.047046  \n",
      "4   5.027573   5.225446  \n",
      "\n",
      "[5 rows x 38 columns]\n",
      "\n",
      "Size: \n",
      "(51, 38)\n"
     ]
    }
   ],
   "source": [
    "# Do feature scaling\n",
    "from sklearn.preprocessing import StandardScaler\n",
    "sc = StandardScaler()\n",
    "X_scaled = sc.fit_transform(X)\n",
    "\n",
    "# Apply PCA\n",
    "from sklearn.decomposition import PCA\n",
    "pca = PCA(n_components=38)\n",
    "X_pca = pca.fit_transform(X_scaled)\n",
    "\n",
    "# Get the transformed dataset\n",
    "X_pca = pd.DataFrame(X_pca)\n",
    "print(X_pca.head())\n",
    "print(\"\\nSize: \")\n",
    "print(X_pca.shape)"
   ]
  },
  {
   "cell_type": "code",
   "execution_count": 24,
   "id": "a40efc17",
   "metadata": {},
   "outputs": [
    {
     "name": "stderr",
     "output_type": "stream",
     "text": [
      "C:\\Users\\kale_\\anaconda3\\envs\\new_stream\\lib\\site-packages\\sklearn\\linear_model\\_logistic.py:764: ConvergenceWarning: lbfgs failed to converge (status=1):\n",
      "STOP: TOTAL NO. of ITERATIONS REACHED LIMIT.\n",
      "\n",
      "Increase the number of iterations (max_iter) or scale the data as shown in:\n",
      "    https://scikit-learn.org/stable/modules/preprocessing.html\n",
      "Please also refer to the documentation for alternative solver options:\n",
      "    https://scikit-learn.org/stable/modules/linear_model.html#logistic-regression\n",
      "  extra_warning_msg=_LOGISTIC_SOLVER_CONVERGENCE_MSG)\n"
     ]
    }
   ],
   "source": [
    "# Make train and test sets\n",
    "from sklearn.model_selection import train_test_split\n",
    "X_train_pca, X_test_pca, y_train, y_test = train_test_split(X_pca, y, test_size=0.20, \n",
    "                                                            shuffle=True, random_state=2)\n",
    "\n",
    "# Initialize the logistic regression model\n",
    "from sklearn.linear_model import LogisticRegression\n",
    "clf_pca = LogisticRegression()\n",
    "\n",
    "# Train the model\n",
    "clf_pca.fit(X_train_pca, y_train)\n",
    "\n",
    "# Make predictions\n",
    "y_pred_pca = clf_pca.predict(X_test_pca)\n"
   ]
  },
  {
   "cell_type": "code",
   "execution_count": 25,
   "id": "586e3eed",
   "metadata": {},
   "outputs": [
    {
     "name": "stdout",
     "output_type": "stream",
     "text": [
      "Train accuracy: 1.0\n",
      "Test accuracy: 0.5454545454545454\n",
      "Precision: 0.5714285714285714\n",
      "Recall: 0.6666666666666666\n",
      "Classification Report:\n",
      "               precision    recall  f1-score   support\n",
      "\n",
      "           0       0.20      0.20      0.20         5\n",
      "           1       0.33      0.33      0.33         6\n",
      "\n",
      "    accuracy                           0.27        11\n",
      "   macro avg       0.27      0.27      0.27        11\n",
      "weighted avg       0.27      0.27      0.27        11\n",
      "\n"
     ]
    }
   ],
   "source": [
    "# Measure accuracy\n",
    "from sklearn.metrics import accuracy_score\n",
    "import numpy as np\n",
    "print(\"Train accuracy:\", accuracy_score(y_train, clf_pca.predict(X_train_pca)))\n",
    "print(\"Test accuracy:\",accuracy_score(y_test, y_pred_pca))\n",
    "print(\"Precision:\",metrics.precision_score(y_test, y_pred_pca))\n",
    "print(\"Recall:\",metrics.recall_score(y_test, y_pred_pca))\n",
    "print(\"Classification Report:\\n\",metrics.classification_report(y_test, y_pred))"
   ]
  },
  {
   "cell_type": "code",
   "execution_count": 26,
   "id": "1c161376",
   "metadata": {},
   "outputs": [
    {
     "name": "stdout",
     "output_type": "stream",
     "text": [
      "\n",
      "Test confusion_matrix\n"
     ]
    },
    {
     "data": {
      "text/plain": [
       "Text(33.0, 0.5, 'True')"
      ]
     },
     "execution_count": 26,
     "metadata": {},
     "output_type": "execute_result"
    },
    {
     "data": {
      "image/png": "[encoded data removed]",
      "text/plain": [
       "<Figure size 432x288 with 2 Axes>"
      ]
     },
     "metadata": {
      "needs_background": "light"
     },
     "output_type": "display_data"
    }
   ],
   "source": [
    "# Make the confusion matrix\n",
    "from sklearn.metrics import confusion_matrix\n",
    "cf_matrix = confusion_matrix(y_test, y_pred)\n",
    "print(\"\\nTest confusion_matrix\")\n",
    "sns.heatmap(cf_matrix, annot=True, cmap='Blues')\n",
    "plt.xlabel('Predicted', fontsize=12)\n",
    "plt.ylabel('True', fontsize=12)"
   ]
  },
  {
   "cell_type": "markdown",
   "id": "9e669bb3",
   "metadata": {},
   "source": [
    "### Experimenting for best classifier"
   ]
  },
  {
   "cell_type": "code",
   "execution_count": 27,
   "id": "27047ef4",
   "metadata": {},
   "outputs": [
    {
     "name": "stdout",
     "output_type": "stream",
     "text": [
      "Requirement already satisfied: lazypredict in c:\\users\\kale_\\anaconda3\\envs\\new_stream\\lib\\site-packages (0.2.9)\n",
      "Requirement already satisfied: joblib==1.0.0 in c:\\users\\kale_\\anaconda3\\envs\\new_stream\\lib\\site-packages (from lazypredict) (1.0.0)\n",
      "Requirement already satisfied: pytest==5.4.3 in c:\\users\\kale_\\anaconda3\\envs\\new_stream\\lib\\site-packages (from lazypredict) (5.4.3)\n",
      "Requirement already satisfied: scikit-learn==0.23.1 in c:\\users\\kale_\\anaconda3\\envs\\new_stream\\lib\\site-packages (from lazypredict) (0.23.1)\n",
      "Requirement already satisfied: scipy==1.5.4 in c:\\users\\kale_\\anaconda3\\envs\\new_stream\\lib\\site-packages (from lazypredict) (1.5.4)\n",
      "Requirement already satisfied: numpy==1.19.1 in c:\\users\\kale_\\anaconda3\\envs\\new_stream\\lib\\site-packages (from lazypredict) (1.19.1)\n",
      "Requirement already satisfied: pandas==1.0.5 in c:\\users\\kale_\\anaconda3\\envs\\new_stream\\lib\\site-packages (from lazypredict) (1.0.5)\n",
      "Requirement already satisfied: PyYAML==5.3.1 in c:\\users\\kale_\\anaconda3\\envs\\new_stream\\lib\\site-packages (from lazypredict) (5.3.1)\n",
      "Requirement already satisfied: tqdm==4.56.0 in c:\\users\\kale_\\anaconda3\\envs\\new_stream\\lib\\site-packages (from lazypredict) (4.56.0)\n",
      "Requirement already satisfied: click==7.1.2 in c:\\users\\kale_\\anaconda3\\envs\\new_stream\\lib\\site-packages (from lazypredict) (7.1.2)\n",
      "Requirement already satisfied: xgboost==1.1.1 in c:\\users\\kale_\\anaconda3\\envs\\new_stream\\lib\\site-packages (from lazypredict) (1.1.1)\n",
      "Requirement already satisfied: lightgbm==2.3.1 in c:\\users\\kale_\\anaconda3\\envs\\new_stream\\lib\\site-packages (from lazypredict) (2.3.1)\n",
      "Requirement already satisfied: six==1.15.0 in c:\\users\\kale_\\anaconda3\\envs\\new_stream\\lib\\site-packages (from lazypredict) (1.15.0)\n",
      "Requirement already satisfied: python-dateutil>=2.6.1 in c:\\users\\kale_\\anaconda3\\envs\\new_stream\\lib\\site-packages (from pandas==1.0.5->lazypredict) (2.8.2)\n",
      "Requirement already satisfied: pytz>=2017.2 in c:\\users\\kale_\\anaconda3\\envs\\new_stream\\lib\\site-packages (from pandas==1.0.5->lazypredict) (2021.3)\n",
      "Requirement already satisfied: more-itertools>=4.0.0 in c:\\users\\kale_\\anaconda3\\envs\\new_stream\\lib\\site-packages (from pytest==5.4.3->lazypredict) (8.12.0)\n",
      "Requirement already satisfied: importlib-metadata>=0.12 in c:\\users\\kale_\\anaconda3\\envs\\new_stream\\lib\\site-packages (from pytest==5.4.3->lazypredict) (4.8.1)\n",
      "Requirement already satisfied: attrs>=17.4.0 in c:\\users\\kale_\\anaconda3\\envs\\new_stream\\lib\\site-packages (from pytest==5.4.3->lazypredict) (21.2.0)\n",
      "Requirement already satisfied: wcwidth in c:\\users\\kale_\\anaconda3\\envs\\new_stream\\lib\\site-packages (from pytest==5.4.3->lazypredict) (0.2.5)\n",
      "Requirement already satisfied: py>=1.5.0 in c:\\users\\kale_\\anaconda3\\envs\\new_stream\\lib\\site-packages (from pytest==5.4.3->lazypredict) (1.11.0)\n",
      "Requirement already satisfied: pluggy<1.0,>=0.12 in c:\\users\\kale_\\anaconda3\\envs\\new_stream\\lib\\site-packages (from pytest==5.4.3->lazypredict) (0.13.1)\n",
      "Requirement already satisfied: atomicwrites>=1.0 in c:\\users\\kale_\\anaconda3\\envs\\new_stream\\lib\\site-packages (from pytest==5.4.3->lazypredict) (1.4.0)\n",
      "Requirement already satisfied: packaging in c:\\users\\kale_\\anaconda3\\envs\\new_stream\\lib\\site-packages (from pytest==5.4.3->lazypredict) (21.3)\n",
      "Requirement already satisfied: colorama in c:\\users\\kale_\\anaconda3\\envs\\new_stream\\lib\\site-packages (from pytest==5.4.3->lazypredict) (0.4.4)\n",
      "Requirement already satisfied: threadpoolctl>=2.0.0 in c:\\users\\kale_\\anaconda3\\envs\\new_stream\\lib\\site-packages (from scikit-learn==0.23.1->lazypredict) (3.0.0)\n",
      "Requirement already satisfied: zipp>=0.5 in c:\\users\\kale_\\anaconda3\\envs\\new_stream\\lib\\site-packages (from importlib-metadata>=0.12->pytest==5.4.3->lazypredict) (3.6.0)\n",
      "Requirement already satisfied: typing-extensions>=3.6.4 in c:\\users\\kale_\\anaconda3\\envs\\new_stream\\lib\\site-packages (from importlib-metadata>=0.12->pytest==5.4.3->lazypredict) (3.10.0.2)\n",
      "Requirement already satisfied: pyparsing!=3.0.5,>=2.0.2 in c:\\users\\kale_\\anaconda3\\envs\\new_stream\\lib\\site-packages (from packaging->pytest==5.4.3->lazypredict) (2.4.7)\n",
      "Note: you may need to restart the kernel to use updated packages.\n"
     ]
    }
   ],
   "source": [
    "pip install lazypredict"
   ]
  },
  {
   "cell_type": "code",
   "execution_count": 28,
   "id": "b9e257bb",
   "metadata": {},
   "outputs": [
    {
     "name": "stderr",
     "output_type": "stream",
     "text": [
      "C:\\Users\\kale_\\anaconda3\\envs\\new_stream\\lib\\site-packages\\sklearn\\utils\\deprecation.py:143: FutureWarning: The sklearn.utils.testing module is  deprecated in version 0.22 and will be removed in version 0.24. The corresponding classes / functions should instead be imported from sklearn.utils. Anything that cannot be imported from sklearn.utils is now part of the private API.\n",
      "  warnings.warn(message, FutureWarning)\n"
     ]
    }
   ],
   "source": [
    "import lazypredict\n",
    "from lazypredict.Supervised import LazyClassifier"
   ]
  },
  {
   "cell_type": "code",
   "execution_count": 29,
   "id": "e117860d",
   "metadata": {},
   "outputs": [],
   "source": [
    "lazy_clf = LazyClassifier(verbose=0, ignore_warnings=True, custom_metric = None)"
   ]
  },
  {
   "cell_type": "code",
   "execution_count": 30,
   "id": "6d139328",
   "metadata": {},
   "outputs": [
    {
     "name": "stderr",
     "output_type": "stream",
     "text": [
      "100%|██████████████████████████████████████████████████████████████████████████████████| 29/29 [00:00<00:00, 63.42it/s]"
     ]
    },
    {
     "name": "stdout",
     "output_type": "stream",
     "text": [
      "                               Accuracy  Balanced Accuracy  ROC AUC  F1 Score  \\\n",
      "Model                                                                           \n",
      "AdaBoostClassifier                 0.55               0.55     0.55      0.55   \n",
      "CalibratedClassifierCV             0.55               0.55     0.55      0.55   \n",
      "LogisticRegression                 0.55               0.53     0.53      0.54   \n",
      "QuadraticDiscriminantAnalysis      0.55               0.53     0.53      0.54   \n",
      "SVC                                0.55               0.52     0.52      0.49   \n",
      "NuSVC                              0.55               0.52     0.52      0.49   \n",
      "RandomForestClassifier             0.55               0.52     0.52      0.49   \n",
      "LabelPropagation                   0.45               0.48     0.48      0.40   \n",
      "LabelSpreading                     0.45               0.48     0.48      0.40   \n",
      "BernoulliNB                        0.45               0.48     0.48      0.40   \n",
      "ExtraTreesClassifier               0.45               0.45     0.45      0.45   \n",
      "ExtraTreeClassifier                0.45               0.45     0.45      0.45   \n",
      "XGBClassifier                      0.45               0.45     0.45      0.45   \n",
      "BaggingClassifier                  0.45               0.45     0.45      0.45   \n",
      "DecisionTreeClassifier             0.45               0.45     0.45      0.45   \n",
      "PassiveAggressiveClassifier        0.45               0.45     0.45      0.45   \n",
      "RidgeClassifierCV                  0.45               0.43     0.43      0.43   \n",
      "RidgeClassifier                    0.45               0.43     0.43      0.43   \n",
      "SGDClassifier                      0.45               0.43     0.43      0.43   \n",
      "LinearSVC                          0.45               0.43     0.43      0.43   \n",
      "LinearDiscriminantAnalysis         0.45               0.43     0.43      0.43   \n",
      "DummyClassifier                    0.36               0.37     0.37      0.36   \n",
      "Perceptron                         0.36               0.35     0.35      0.35   \n",
      "NearestCentroid                    0.36               0.35     0.35      0.35   \n",
      "KNeighborsClassifier               0.27               0.30     0.30      0.19   \n",
      "GaussianNB                         0.27               0.27     0.27      0.27   \n",
      "LGBMClassifier                     0.27               0.27     0.27      0.27   \n",
      "\n",
      "                               Time Taken  \n",
      "Model                                      \n",
      "AdaBoostClassifier                   0.06  \n",
      "CalibratedClassifierCV               0.02  \n",
      "LogisticRegression                   0.01  \n",
      "QuadraticDiscriminantAnalysis        0.01  \n",
      "SVC                                  0.01  \n",
      "NuSVC                                0.01  \n",
      "RandomForestClassifier               0.09  \n",
      "LabelPropagation                     0.01  \n",
      "LabelSpreading                       0.01  \n",
      "BernoulliNB                          0.01  \n",
      "ExtraTreesClassifier                 0.07  \n",
      "ExtraTreeClassifier                  0.01  \n",
      "XGBClassifier                        0.02  \n",
      "BaggingClassifier                    0.02  \n",
      "DecisionTreeClassifier               0.01  \n",
      "PassiveAggressiveClassifier          0.01  \n",
      "RidgeClassifierCV                    0.01  \n",
      "RidgeClassifier                      0.01  \n",
      "SGDClassifier                        0.01  \n",
      "LinearSVC                            0.01  \n",
      "LinearDiscriminantAnalysis           0.01  \n",
      "DummyClassifier                      0.01  \n",
      "Perceptron                           0.01  \n",
      "NearestCentroid                      0.01  \n",
      "KNeighborsClassifier                 0.01  \n",
      "GaussianNB                           0.01  \n",
      "LGBMClassifier                       0.02  \n"
     ]
    },
    {
     "name": "stderr",
     "output_type": "stream",
     "text": [
      "\n"
     ]
    }
   ],
   "source": [
    "### fitting data in LazyClassifier\n",
    "models,predictions = lazy_clf.fit(X_train_pca, X_test_pca, y_train, y_test)\n",
    "\n",
    "#checking for the best classifier \n",
    "print(models)"
   ]
  },
  {
   "cell_type": "markdown",
   "id": "e5b13067",
   "metadata": {},
   "source": [
    "### Experimenting with Feature selection using SelectKBest"
   ]
  },
  {
   "cell_type": "code",
   "execution_count": 31,
   "id": "0b5d4cb4",
   "metadata": {},
   "outputs": [],
   "source": [
    "from sklearn.model_selection import train_test_split\n",
    "# Train test split\n",
    "\n",
    "X_train, X_test, Y_train, Y_test  = train_test_split(X, y, test_size = 0.20, random_state = 2)"
   ]
  },
  {
   "cell_type": "code",
   "execution_count": 32,
   "id": "c79715c5",
   "metadata": {},
   "outputs": [
    {
     "name": "stdout",
     "output_type": "stream",
     "text": [
      "Top 200 features:  ['AK5', 'MCOLN2', 'GBP5', 'LINC00622', 'TXNIP', 'S100A4', 'IFI16', 'FAM129A', 'SYT14', 'ID2', 'TRIB2', 'CDC42EP3', 'CYP1B1', 'CNRIP1', 'DGUOK.AS1', 'EVA1A', 'MALL', 'INHBB', 'TNFAIP6', 'PLA2R1', 'FAP', 'LINC01116', 'ITGA4', 'NRP2', 'C3orf14', 'GXYLT2', 'EPHA3', 'ARHGAP31', 'ROPN1', 'ROPN1B', 'TM4SF4', 'RARRES1', 'TRIM59', 'BCHE', 'TNFSF10', 'NLGN1', 'GNB4', 'CLDN1', 'PPP2R2C', 'S100P', 'SLIT2', 'SLC34A2', 'IGFBP7', 'CXCL8', 'EREG', 'AREG', 'ART3', 'PLAC8', 'SPP1', 'LEF1', 'ENPEP', 'PCDH18', 'LOC100507639', 'TRIM2', 'GK3P', 'GPM6A', 'SORBS2', 'FST', 'LUCAT1', 'MCTP1', 'PDLIM4', 'CD74', 'SPARC', 'HTATSF1P2', 'NRN1', 'DSP', 'GCNT2', 'RNF182', 'HLA.DPA1', 'LGSN', 'KCNQ5', 'POPDC3', 'FABP7', 'CTGF', 'EYA4', 'PLAGL1', 'SLC22A3', 'LOC100128885', 'PON3', 'DOCK4', 'AASS', 'AKR1B10', 'PTN', 'DLC1', 'SFRP1', 'PLAT', 'SNAI2', 'ZFHX4.AS1', 'MMP16', 'NIPAL2', 'COLEC10', 'HAS2', 'FBXO32', 'MTSS1', 'LINGO2', 'SNX18P3', 'ALDH1A1', 'DAPK1', 'PTGR1', 'TNC', 'PTGES', 'RNU5D.2P', 'OLFM1', 'AKR1C1', 'AKR1C5P', 'AKR1C3', 'LINC00842', 'HNRNPA1P33', 'AKR1B10P1', 'GSTO2', 'IFITM2', 'IFITM1', 'CDKN1C', 'AMPD3', 'LOC100129473', 'MYRF', 'FGF19', 'SYTL2', 'GRAMD1B', 'SLC6A13', 'C1S', 'GPRC5A', 'PLBD1', 'FAR2', 'TMTC1', 'SLC16A7', 'LYZ', 'TRHDE', 'CSRP2', 'ACSS3', 'SLC6A15', 'ALDH2', 'SLC46A3', 'CCNA1', 'LCP1', 'KCTD12', 'DCT', 'SLC7A7', 'LINC00520', 'GPX2', 'NEK9', 'IFI27', 'C14orf132', 'CRIP1', 'GABRB3', 'MIR626', 'C15orf48', 'SLC27A2', 'CA12', 'NEO1', 'CIB2', 'DNAJA4', 'TMC5', 'FRG2DP', 'CALB2', 'FAM101B', 'HS3ST3A1', 'CENPV', 'IGFBP4', 'TNS4', 'KRT20', 'KRT23', 'KANSL1.AS1', 'CDH2', 'RNF152', 'CFD', 'UCA1', 'ZFP82', 'LOC284412', 'CEACAM6', 'APOC1', 'LOC645553', 'PLTP', 'BAGE2', 'CXADR', 'TMPRSS15', 'TIMP3', 'LOC441528', 'GPR143', 'GPM6B', 'IL1RAPL1', 'TMEM47', 'SYTL5', 'SRPX', 'SLC38A5', 'ARMCX1', 'ZMAT1', 'BEX1', 'TCEAL3', 'IL13RA2', 'KLHL13', 'TENM1', 'GPC3', 'FGF13', 'GABRA3', 'MAGEA6', 'MAGEA12', 'PNMA6A', 'RPS4Y1', 'CD24']\n"
     ]
    }
   ],
   "source": [
    "# Instantiate select features\n",
    "from sklearn.feature_selection import VarianceThreshold, SelectKBest, chi2\n",
    "select_features = SelectKBest(chi2, k = 200).fit(X_train, Y_train)\n",
    "\n",
    "# Top 200 features\n",
    "selected_features = select_features.get_support()\n",
    "print(\"Top 200 features: \", list(X_train.columns[selected_features]))"
   ]
  },
  {
   "cell_type": "code",
   "execution_count": 33,
   "id": "8255a6d1",
   "metadata": {},
   "outputs": [],
   "source": [
    "# Apply select features to training and test set\n",
    "X_train_chi2 = select_features.transform(X_train)\n",
    "X_test_chi2 = select_features.transform(X_test)"
   ]
  },
  {
   "cell_type": "code",
   "execution_count": 34,
   "id": "c078b005",
   "metadata": {},
   "outputs": [],
   "source": [
    "from sklearn.preprocessing import StandardScaler\n",
    "sc = StandardScaler()"
   ]
  },
  {
   "cell_type": "code",
   "execution_count": 35,
   "id": "ce1a7fca",
   "metadata": {},
   "outputs": [],
   "source": [
    "from sklearn.linear_model import LogisticRegression\n",
    "clf_chi2 = LogisticRegression()\n",
    "\n",
    "# Train the model\n",
    "clf_chi2.fit(sc.fit_transform(X_train_chi2), Y_train)\n",
    "\n",
    "# Make predictions\n",
    "Y_pred_chi2 = clf_chi2.predict(sc.fit_transform(X_test_chi2))"
   ]
  },
  {
   "cell_type": "code",
   "execution_count": 36,
   "id": "63756e0d",
   "metadata": {},
   "outputs": [
    {
     "name": "stdout",
     "output_type": "stream",
     "text": [
      "Test accuracy: 0.5454545454545454\n",
      "Precision: 0.5555555555555556\n",
      "Recall: 0.8333333333333334\n",
      "Classification Report\n",
      "               precision    recall  f1-score   support\n",
      "\n",
      "           0       0.50      0.20      0.29         5\n",
      "           1       0.56      0.83      0.67         6\n",
      "\n",
      "    accuracy                           0.55        11\n",
      "   macro avg       0.53      0.52      0.48        11\n",
      "weighted avg       0.53      0.55      0.49        11\n",
      "\n"
     ]
    }
   ],
   "source": [
    "from sklearn import metrics \n",
    "import numpy as np\n",
    "print(\"Test accuracy:\", metrics.accuracy_score(Y_test, Y_pred_chi2))\n",
    "print(\"Precision:\",metrics.precision_score(Y_test, Y_pred_chi2))\n",
    "print(\"Recall:\",metrics.recall_score(Y_test, Y_pred_chi2))\n",
    "print(\"Classification Report\\n\",metrics.classification_report(Y_test, Y_pred_chi2))"
   ]
  },
  {
   "cell_type": "code",
   "execution_count": 37,
   "id": "9e3efbdc",
   "metadata": {},
   "outputs": [],
   "source": [
    "lazy_FS_clf = LazyClassifier(verbose=0, ignore_warnings=True, custom_metric = None)"
   ]
  },
  {
   "cell_type": "code",
   "execution_count": 38,
   "id": "084a455b",
   "metadata": {},
   "outputs": [
    {
     "name": "stderr",
     "output_type": "stream",
     "text": [
      "100%|██████████████████████████████████████████████████████████████████████████████████| 29/29 [00:00<00:00, 49.08it/s]"
     ]
    },
    {
     "name": "stdout",
     "output_type": "stream",
     "text": [
      "                               Accuracy  Balanced Accuracy  ROC AUC  F1 Score  \\\n",
      "Model                                                                           \n",
      "LinearSVC                          0.55               0.52     0.52      0.49   \n",
      "LogisticRegression                 0.55               0.52     0.52      0.49   \n",
      "SGDClassifier                      0.55               0.52     0.52      0.49   \n",
      "CalibratedClassifierCV             0.55               0.52     0.52      0.49   \n",
      "RidgeClassifierCV                  0.55               0.52     0.52      0.49   \n",
      "RidgeClassifier                    0.55               0.52     0.52      0.49   \n",
      "Perceptron                         0.55               0.52     0.52      0.49   \n",
      "PassiveAggressiveClassifier        0.55               0.52     0.52      0.49   \n",
      "DecisionTreeClassifier             0.45               0.45     0.45      0.45   \n",
      "QuadraticDiscriminantAnalysis      0.45               0.45     0.45      0.45   \n",
      "LabelPropagation                   0.36               0.40     0.40      0.24   \n",
      "LabelSpreading                     0.36               0.40     0.40      0.24   \n",
      "LGBMClassifier                     0.36               0.37     0.37      0.36   \n",
      "DummyClassifier                    0.36               0.37     0.37      0.36   \n",
      "LinearDiscriminantAnalysis         0.36               0.35     0.35      0.35   \n",
      "NearestCentroid                    0.36               0.35     0.35      0.35   \n",
      "NuSVC                              0.36               0.35     0.35      0.35   \n",
      "GaussianNB                         0.36               0.35     0.35      0.35   \n",
      "ExtraTreesClassifier               0.36               0.35     0.35      0.35   \n",
      "RandomForestClassifier             0.36               0.35     0.35      0.35   \n",
      "ExtraTreeClassifier                0.36               0.35     0.35      0.35   \n",
      "BernoulliNB                        0.36               0.35     0.35      0.35   \n",
      "SVC                                0.36               0.35     0.35      0.35   \n",
      "XGBClassifier                      0.36               0.35     0.35      0.35   \n",
      "AdaBoostClassifier                 0.36               0.35     0.35      0.35   \n",
      "BaggingClassifier                  0.27               0.28     0.28      0.26   \n",
      "KNeighborsClassifier               0.27               0.27     0.27      0.27   \n",
      "\n",
      "                               Time Taken  \n",
      "Model                                      \n",
      "LinearSVC                            0.01  \n",
      "LogisticRegression                   0.01  \n",
      "SGDClassifier                        0.01  \n",
      "CalibratedClassifierCV               0.02  \n",
      "RidgeClassifierCV                    0.01  \n",
      "RidgeClassifier                      0.01  \n",
      "Perceptron                           0.01  \n",
      "PassiveAggressiveClassifier          0.01  \n",
      "DecisionTreeClassifier               0.01  \n",
      "QuadraticDiscriminantAnalysis        0.01  \n",
      "LabelPropagation                     0.01  \n",
      "LabelSpreading                       0.01  \n",
      "LGBMClassifier                       0.02  \n",
      "DummyClassifier                      0.01  \n",
      "LinearDiscriminantAnalysis           0.01  \n",
      "NearestCentroid                      0.01  \n",
      "NuSVC                                0.01  \n",
      "GaussianNB                           0.01  \n",
      "ExtraTreesClassifier                 0.08  \n",
      "RandomForestClassifier               0.09  \n",
      "ExtraTreeClassifier                  0.01  \n",
      "BernoulliNB                          0.02  \n",
      "SVC                                  0.01  \n",
      "XGBClassifier                        0.03  \n",
      "AdaBoostClassifier                   0.08  \n",
      "BaggingClassifier                    0.02  \n",
      "KNeighborsClassifier                 0.01  \n"
     ]
    },
    {
     "name": "stderr",
     "output_type": "stream",
     "text": [
      "\n"
     ]
    }
   ],
   "source": [
    "### fitting data in LazyClassifier\n",
    "FS_models,fs_predictions = lazy_FS_clf.fit(X_train_chi2, X_test_chi2, y_train, y_test)\n",
    "\n",
    "#checking for the best classifier \n",
    "print(FS_models)"
   ]
  },
  {
   "cell_type": "code",
   "execution_count": null,
   "id": "046b7806",
   "metadata": {},
   "outputs": [],
   "source": []
  }
 ],
 "metadata": {
  "kernelspec": {
   "display_name": "Python 3 (ipykernel)",
   "language": "python",
   "name": "python3"
  },
  "language_info": {
   "codemirror_mode": {
    "name": "ipython",
    "version": 3
   },
   "file_extension": ".py",
   "mimetype": "text/x-python",
   "name": "python",
   "nbconvert_exporter": "python",
   "pygments_lexer": "ipython3",
   "version": "3.7.11"
  }
 },
 "nbformat": 4,
 "nbformat_minor": 5
}
