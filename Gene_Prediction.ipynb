{
 "cells": [
  {
   "cell_type": "code",
   "execution_count": 1,
   "id": "4aa9e6ed",
   "metadata": {},
   "outputs": [],
   "source": [
    "import pandas as pd\n",
    "import numpy as np\n",
    "import seaborn as sns\n",
    "import matplotlib.pyplot as plt\n",
    "%matplotlib inline\n",
    "from sklearn import metrics\n",
    "from sklearn.linear_model import Lasso\n",
    "from sklearn.model_selection import RepeatedKFold\n",
    "from sklearn.model_selection import GridSearchCV\n",
    "from sklearn.ensemble import RandomForestRegressor\n",
    "from sklearn.metrics import r2_score,mean_squared_error\n",
    "from sklearn.preprocessing import StandardScaler\n",
    "from sklearn.pipeline import make_pipeline\n",
    "from sklearn.linear_model import (\n",
    "    LinearRegression,\n",
    "    LassoCV,\n",
    "    RidgeCV,\n",
    ")\n",
    "from sklearn.pipeline import Pipeline\n",
    "from sklearn.datasets import make_regression\n",
    "from sklearn.model_selection import train_test_split\n",
    "from sklearn.feature_selection import SelectKBest\n",
    "from sklearn.feature_selection import f_regression\n",
    "from sklearn.linear_model import LinearRegression\n",
    "from sklearn.metrics import mean_absolute_error\n",
    "\n",
    "# grid search hyperparameters for lasso regression\n",
    "from numpy import arange\n",
    "from pandas import read_csv\n",
    "from sklearn.model_selection import GridSearchCV\n",
    "from sklearn.model_selection import RepeatedKFold\n",
    "from sklearn.linear_model import Lasso"
   ]
  },
  {
   "cell_type": "code",
   "execution_count": 2,
   "id": "44d3c79e",
   "metadata": {},
   "outputs": [],
   "source": [
    "df = pd.read_csv('Test_drug_prediction.csv',index_col=0)"
   ]
  },
  {
   "cell_type": "code",
   "execution_count": 3,
   "id": "dae06980",
   "metadata": {},
   "outputs": [
    {
     "data": {
      "text/html": [
       "<div>\n",
       "<style scoped>\n",
       "    .dataframe tbody tr th:only-of-type {\n",
       "        vertical-align: middle;\n",
       "    }\n",
       "\n",
       "    .dataframe tbody tr th {\n",
       "        vertical-align: top;\n",
       "    }\n",
       "\n",
       "    .dataframe thead th {\n",
       "        text-align: right;\n",
       "    }\n",
       "</style>\n",
       "<table border=\"1\" class=\"dataframe\">\n",
       "  <thead>\n",
       "    <tr style=\"text-align: right;\">\n",
       "      <th></th>\n",
       "      <th>target</th>\n",
       "      <th>LOC729737</th>\n",
       "      <th>CICP3</th>\n",
       "      <th>LOC101060494</th>\n",
       "      <th>LINC00115</th>\n",
       "      <th>LINC01128</th>\n",
       "      <th>LOC284600</th>\n",
       "      <th>LOC100130417</th>\n",
       "      <th>SAMD11</th>\n",
       "      <th>NOC2L</th>\n",
       "      <th>...</th>\n",
       "      <th>MAFIP</th>\n",
       "      <th>LOC283788</th>\n",
       "      <th>KIR3DS1</th>\n",
       "      <th>LOC100507412</th>\n",
       "      <th>KIR2DS5</th>\n",
       "      <th>LOC100288966</th>\n",
       "      <th>KIR2DS1</th>\n",
       "      <th>MGC70870</th>\n",
       "      <th>HLA.DRB4</th>\n",
       "      <th>HLA.DRB3</th>\n",
       "    </tr>\n",
       "  </thead>\n",
       "  <tbody>\n",
       "    <tr>\n",
       "      <th>1</th>\n",
       "      <td>2.646123</td>\n",
       "      <td>8.616</td>\n",
       "      <td>6.249</td>\n",
       "      <td>5.054</td>\n",
       "      <td>2.287</td>\n",
       "      <td>6.513</td>\n",
       "      <td>7.131</td>\n",
       "      <td>5.631</td>\n",
       "      <td>6.570</td>\n",
       "      <td>8.032</td>\n",
       "      <td>...</td>\n",
       "      <td>6.635</td>\n",
       "      <td>3.530</td>\n",
       "      <td>2.286</td>\n",
       "      <td>8.587</td>\n",
       "      <td>2.428</td>\n",
       "      <td>6.242</td>\n",
       "      <td>2.186</td>\n",
       "      <td>6.282</td>\n",
       "      <td>2.641</td>\n",
       "      <td>4.487</td>\n",
       "    </tr>\n",
       "    <tr>\n",
       "      <th>2</th>\n",
       "      <td>2.510278</td>\n",
       "      <td>8.876</td>\n",
       "      <td>6.623</td>\n",
       "      <td>5.462</td>\n",
       "      <td>2.446</td>\n",
       "      <td>7.144</td>\n",
       "      <td>6.936</td>\n",
       "      <td>6.677</td>\n",
       "      <td>7.317</td>\n",
       "      <td>8.142</td>\n",
       "      <td>...</td>\n",
       "      <td>6.185</td>\n",
       "      <td>3.158</td>\n",
       "      <td>2.286</td>\n",
       "      <td>8.106</td>\n",
       "      <td>2.400</td>\n",
       "      <td>6.342</td>\n",
       "      <td>2.141</td>\n",
       "      <td>5.654</td>\n",
       "      <td>2.541</td>\n",
       "      <td>5.107</td>\n",
       "    </tr>\n",
       "    <tr>\n",
       "      <th>3</th>\n",
       "      <td>1.612207</td>\n",
       "      <td>9.265</td>\n",
       "      <td>6.461</td>\n",
       "      <td>6.320</td>\n",
       "      <td>2.288</td>\n",
       "      <td>7.004</td>\n",
       "      <td>7.306</td>\n",
       "      <td>6.100</td>\n",
       "      <td>7.144</td>\n",
       "      <td>8.794</td>\n",
       "      <td>...</td>\n",
       "      <td>6.337</td>\n",
       "      <td>2.797</td>\n",
       "      <td>2.286</td>\n",
       "      <td>9.080</td>\n",
       "      <td>2.286</td>\n",
       "      <td>6.242</td>\n",
       "      <td>2.286</td>\n",
       "      <td>5.968</td>\n",
       "      <td>2.616</td>\n",
       "      <td>4.057</td>\n",
       "    </tr>\n",
       "    <tr>\n",
       "      <th>4</th>\n",
       "      <td>1.517873</td>\n",
       "      <td>9.371</td>\n",
       "      <td>6.227</td>\n",
       "      <td>6.728</td>\n",
       "      <td>2.287</td>\n",
       "      <td>7.244</td>\n",
       "      <td>7.329</td>\n",
       "      <td>5.535</td>\n",
       "      <td>6.379</td>\n",
       "      <td>8.151</td>\n",
       "      <td>...</td>\n",
       "      <td>6.028</td>\n",
       "      <td>3.333</td>\n",
       "      <td>2.286</td>\n",
       "      <td>8.219</td>\n",
       "      <td>2.408</td>\n",
       "      <td>6.394</td>\n",
       "      <td>2.144</td>\n",
       "      <td>8.205</td>\n",
       "      <td>2.452</td>\n",
       "      <td>4.458</td>\n",
       "    </tr>\n",
       "    <tr>\n",
       "      <th>5</th>\n",
       "      <td>1.200902</td>\n",
       "      <td>8.413</td>\n",
       "      <td>6.233</td>\n",
       "      <td>3.416</td>\n",
       "      <td>2.291</td>\n",
       "      <td>6.554</td>\n",
       "      <td>7.438</td>\n",
       "      <td>6.160</td>\n",
       "      <td>7.233</td>\n",
       "      <td>8.042</td>\n",
       "      <td>...</td>\n",
       "      <td>6.065</td>\n",
       "      <td>3.235</td>\n",
       "      <td>2.286</td>\n",
       "      <td>8.715</td>\n",
       "      <td>2.429</td>\n",
       "      <td>6.708</td>\n",
       "      <td>2.184</td>\n",
       "      <td>5.825</td>\n",
       "      <td>2.612</td>\n",
       "      <td>4.517</td>\n",
       "    </tr>\n",
       "  </tbody>\n",
       "</table>\n",
       "<p>5 rows × 23060 columns</p>\n",
       "</div>"
      ],
      "text/plain": [
       "     target  LOC729737  CICP3  LOC101060494  LINC00115  LINC01128  LOC284600  \\\n",
       "1  2.646123      8.616  6.249         5.054      2.287      6.513      7.131   \n",
       "2  2.510278      8.876  6.623         5.462      2.446      7.144      6.936   \n",
       "3  1.612207      9.265  6.461         6.320      2.288      7.004      7.306   \n",
       "4  1.517873      9.371  6.227         6.728      2.287      7.244      7.329   \n",
       "5  1.200902      8.413  6.233         3.416      2.291      6.554      7.438   \n",
       "\n",
       "   LOC100130417  SAMD11  NOC2L  ...  MAFIP  LOC283788  KIR3DS1  LOC100507412  \\\n",
       "1         5.631   6.570  8.032  ...  6.635      3.530    2.286         8.587   \n",
       "2         6.677   7.317  8.142  ...  6.185      3.158    2.286         8.106   \n",
       "3         6.100   7.144  8.794  ...  6.337      2.797    2.286         9.080   \n",
       "4         5.535   6.379  8.151  ...  6.028      3.333    2.286         8.219   \n",
       "5         6.160   7.233  8.042  ...  6.065      3.235    2.286         8.715   \n",
       "\n",
       "   KIR2DS5  LOC100288966  KIR2DS1  MGC70870  HLA.DRB4  HLA.DRB3  \n",
       "1    2.428         6.242    2.186     6.282     2.641     4.487  \n",
       "2    2.400         6.342    2.141     5.654     2.541     5.107  \n",
       "3    2.286         6.242    2.286     5.968     2.616     4.057  \n",
       "4    2.408         6.394    2.144     8.205     2.452     4.458  \n",
       "5    2.429         6.708    2.184     5.825     2.612     4.517  \n",
       "\n",
       "[5 rows x 23060 columns]"
      ]
     },
     "execution_count": 3,
     "metadata": {},
     "output_type": "execute_result"
    }
   ],
   "source": [
    "df.head()"
   ]
  },
  {
   "cell_type": "code",
   "execution_count": 4,
   "id": "8872be29",
   "metadata": {},
   "outputs": [
    {
     "data": {
      "text/plain": [
       "(51, 23060)"
      ]
     },
     "execution_count": 4,
     "metadata": {},
     "output_type": "execute_result"
    }
   ],
   "source": [
    "# check the shape of dataframe\n",
    "df.shape"
   ]
  },
  {
   "cell_type": "code",
   "execution_count": 5,
   "id": "3ac3fbbe",
   "metadata": {},
   "outputs": [
    {
     "name": "stdout",
     "output_type": "stream",
     "text": [
      "<class 'pandas.core.frame.DataFrame'>\n",
      "Int64Index: 51 entries, 1 to 51\n",
      "Columns: 23060 entries, target to HLA.DRB3\n",
      "dtypes: float64(23060)\n",
      "memory usage: 9.0 MB\n"
     ]
    }
   ],
   "source": [
    "\n",
    "df.info()"
   ]
  },
  {
   "cell_type": "code",
   "execution_count": 6,
   "id": "79fe6964",
   "metadata": {},
   "outputs": [
    {
     "data": {
      "text/plain": [
       "target          0\n",
       "LOC729737       0\n",
       "CICP3           0\n",
       "LOC101060494    0\n",
       "LINC00115       0\n",
       "               ..\n",
       "LOC100288966    0\n",
       "KIR2DS1         0\n",
       "MGC70870        0\n",
       "HLA.DRB4        0\n",
       "HLA.DRB3        0\n",
       "Length: 23060, dtype: int64"
      ]
     },
     "execution_count": 6,
     "metadata": {},
     "output_type": "execute_result"
    }
   ],
   "source": [
    "df.isnull().sum()"
   ]
  },
  {
   "cell_type": "code",
   "execution_count": 7,
   "id": "64439d9d",
   "metadata": {},
   "outputs": [
    {
     "data": {
      "text/html": [
       "<div>\n",
       "<style scoped>\n",
       "    .dataframe tbody tr th:only-of-type {\n",
       "        vertical-align: middle;\n",
       "    }\n",
       "\n",
       "    .dataframe tbody tr th {\n",
       "        vertical-align: top;\n",
       "    }\n",
       "\n",
       "    .dataframe thead th {\n",
       "        text-align: right;\n",
       "    }\n",
       "</style>\n",
       "<table border=\"1\" class=\"dataframe\">\n",
       "  <thead>\n",
       "    <tr style=\"text-align: right;\">\n",
       "      <th></th>\n",
       "      <th>target</th>\n",
       "      <th>LOC729737</th>\n",
       "      <th>CICP3</th>\n",
       "      <th>LOC101060494</th>\n",
       "      <th>LINC00115</th>\n",
       "      <th>LINC01128</th>\n",
       "      <th>LOC284600</th>\n",
       "      <th>LOC100130417</th>\n",
       "      <th>SAMD11</th>\n",
       "      <th>NOC2L</th>\n",
       "      <th>...</th>\n",
       "      <th>MAFIP</th>\n",
       "      <th>LOC283788</th>\n",
       "      <th>KIR3DS1</th>\n",
       "      <th>LOC100507412</th>\n",
       "      <th>KIR2DS5</th>\n",
       "      <th>LOC100288966</th>\n",
       "      <th>KIR2DS1</th>\n",
       "      <th>MGC70870</th>\n",
       "      <th>HLA.DRB4</th>\n",
       "      <th>HLA.DRB3</th>\n",
       "    </tr>\n",
       "  </thead>\n",
       "  <tbody>\n",
       "    <tr>\n",
       "      <th>1</th>\n",
       "      <td>2.646123</td>\n",
       "      <td>8.616</td>\n",
       "      <td>6.249</td>\n",
       "      <td>5.054</td>\n",
       "      <td>2.287</td>\n",
       "      <td>6.513</td>\n",
       "      <td>7.131</td>\n",
       "      <td>5.631</td>\n",
       "      <td>6.570</td>\n",
       "      <td>8.032</td>\n",
       "      <td>...</td>\n",
       "      <td>6.635</td>\n",
       "      <td>3.530</td>\n",
       "      <td>2.286</td>\n",
       "      <td>8.587</td>\n",
       "      <td>2.428</td>\n",
       "      <td>6.242</td>\n",
       "      <td>2.186</td>\n",
       "      <td>6.282</td>\n",
       "      <td>2.641</td>\n",
       "      <td>4.487</td>\n",
       "    </tr>\n",
       "    <tr>\n",
       "      <th>2</th>\n",
       "      <td>2.510278</td>\n",
       "      <td>8.876</td>\n",
       "      <td>6.623</td>\n",
       "      <td>5.462</td>\n",
       "      <td>2.446</td>\n",
       "      <td>7.144</td>\n",
       "      <td>6.936</td>\n",
       "      <td>6.677</td>\n",
       "      <td>7.317</td>\n",
       "      <td>8.142</td>\n",
       "      <td>...</td>\n",
       "      <td>6.185</td>\n",
       "      <td>3.158</td>\n",
       "      <td>2.286</td>\n",
       "      <td>8.106</td>\n",
       "      <td>2.400</td>\n",
       "      <td>6.342</td>\n",
       "      <td>2.141</td>\n",
       "      <td>5.654</td>\n",
       "      <td>2.541</td>\n",
       "      <td>5.107</td>\n",
       "    </tr>\n",
       "    <tr>\n",
       "      <th>3</th>\n",
       "      <td>1.612207</td>\n",
       "      <td>9.265</td>\n",
       "      <td>6.461</td>\n",
       "      <td>6.320</td>\n",
       "      <td>2.288</td>\n",
       "      <td>7.004</td>\n",
       "      <td>7.306</td>\n",
       "      <td>6.100</td>\n",
       "      <td>7.144</td>\n",
       "      <td>8.794</td>\n",
       "      <td>...</td>\n",
       "      <td>6.337</td>\n",
       "      <td>2.797</td>\n",
       "      <td>2.286</td>\n",
       "      <td>9.080</td>\n",
       "      <td>2.286</td>\n",
       "      <td>6.242</td>\n",
       "      <td>2.286</td>\n",
       "      <td>5.968</td>\n",
       "      <td>2.616</td>\n",
       "      <td>4.057</td>\n",
       "    </tr>\n",
       "    <tr>\n",
       "      <th>4</th>\n",
       "      <td>1.517873</td>\n",
       "      <td>9.371</td>\n",
       "      <td>6.227</td>\n",
       "      <td>6.728</td>\n",
       "      <td>2.287</td>\n",
       "      <td>7.244</td>\n",
       "      <td>7.329</td>\n",
       "      <td>5.535</td>\n",
       "      <td>6.379</td>\n",
       "      <td>8.151</td>\n",
       "      <td>...</td>\n",
       "      <td>6.028</td>\n",
       "      <td>3.333</td>\n",
       "      <td>2.286</td>\n",
       "      <td>8.219</td>\n",
       "      <td>2.408</td>\n",
       "      <td>6.394</td>\n",
       "      <td>2.144</td>\n",
       "      <td>8.205</td>\n",
       "      <td>2.452</td>\n",
       "      <td>4.458</td>\n",
       "    </tr>\n",
       "    <tr>\n",
       "      <th>5</th>\n",
       "      <td>1.200902</td>\n",
       "      <td>8.413</td>\n",
       "      <td>6.233</td>\n",
       "      <td>3.416</td>\n",
       "      <td>2.291</td>\n",
       "      <td>6.554</td>\n",
       "      <td>7.438</td>\n",
       "      <td>6.160</td>\n",
       "      <td>7.233</td>\n",
       "      <td>8.042</td>\n",
       "      <td>...</td>\n",
       "      <td>6.065</td>\n",
       "      <td>3.235</td>\n",
       "      <td>2.286</td>\n",
       "      <td>8.715</td>\n",
       "      <td>2.429</td>\n",
       "      <td>6.708</td>\n",
       "      <td>2.184</td>\n",
       "      <td>5.825</td>\n",
       "      <td>2.612</td>\n",
       "      <td>4.517</td>\n",
       "    </tr>\n",
       "  </tbody>\n",
       "</table>\n",
       "<p>5 rows × 23060 columns</p>\n",
       "</div>"
      ],
      "text/plain": [
       "     target  LOC729737  CICP3  LOC101060494  LINC00115  LINC01128  LOC284600  \\\n",
       "1  2.646123      8.616  6.249         5.054      2.287      6.513      7.131   \n",
       "2  2.510278      8.876  6.623         5.462      2.446      7.144      6.936   \n",
       "3  1.612207      9.265  6.461         6.320      2.288      7.004      7.306   \n",
       "4  1.517873      9.371  6.227         6.728      2.287      7.244      7.329   \n",
       "5  1.200902      8.413  6.233         3.416      2.291      6.554      7.438   \n",
       "\n",
       "   LOC100130417  SAMD11  NOC2L  ...  MAFIP  LOC283788  KIR3DS1  LOC100507412  \\\n",
       "1         5.631   6.570  8.032  ...  6.635      3.530    2.286         8.587   \n",
       "2         6.677   7.317  8.142  ...  6.185      3.158    2.286         8.106   \n",
       "3         6.100   7.144  8.794  ...  6.337      2.797    2.286         9.080   \n",
       "4         5.535   6.379  8.151  ...  6.028      3.333    2.286         8.219   \n",
       "5         6.160   7.233  8.042  ...  6.065      3.235    2.286         8.715   \n",
       "\n",
       "   KIR2DS5  LOC100288966  KIR2DS1  MGC70870  HLA.DRB4  HLA.DRB3  \n",
       "1    2.428         6.242    2.186     6.282     2.641     4.487  \n",
       "2    2.400         6.342    2.141     5.654     2.541     5.107  \n",
       "3    2.286         6.242    2.286     5.968     2.616     4.057  \n",
       "4    2.408         6.394    2.144     8.205     2.452     4.458  \n",
       "5    2.429         6.708    2.184     5.825     2.612     4.517  \n",
       "\n",
       "[5 rows x 23060 columns]"
      ]
     },
     "execution_count": 7,
     "metadata": {},
     "output_type": "execute_result"
    }
   ],
   "source": [
    "df.head()"
   ]
  },
  {
   "cell_type": "code",
   "execution_count": 8,
   "id": "08179891",
   "metadata": {},
   "outputs": [],
   "source": [
    "X = df.drop(['target'],axis=1)\n",
    "y = df.target"
   ]
  },
  {
   "cell_type": "code",
   "execution_count": 9,
   "id": "e093635c",
   "metadata": {},
   "outputs": [
    {
     "data": {
      "text/plain": [
       "(51, 23059)"
      ]
     },
     "execution_count": 9,
     "metadata": {},
     "output_type": "execute_result"
    }
   ],
   "source": [
    "X.shape"
   ]
  },
  {
   "cell_type": "markdown",
   "id": "7c1e1365",
   "metadata": {},
   "source": [
    "### correlation"
   ]
  },
  {
   "cell_type": "code",
   "execution_count": 10,
   "id": "049f522a",
   "metadata": {},
   "outputs": [
    {
     "name": "stdout",
     "output_type": "stream",
     "text": [
      "              LOC729737     CICP3  LOC101060494  LINC00115  LINC01128  \\\n",
      "LOC729737      1.000000  0.134614      0.625309   0.222565   0.045508   \n",
      "CICP3          0.134614  1.000000      0.285111   0.209573   0.003037   \n",
      "LOC101060494   0.625309  0.285111      1.000000   0.026843   0.060985   \n",
      "LINC00115      0.222565  0.209573      0.026843   1.000000   0.158938   \n",
      "LINC01128      0.045508  0.003037      0.060985   0.158938   1.000000   \n",
      "...                 ...       ...           ...        ...        ...   \n",
      "LOC100288966   0.020113  0.330117      0.036669   0.128457   0.046354   \n",
      "KIR2DS1        0.034720  0.095736      0.067118   0.008014   0.157825   \n",
      "MGC70870       0.246052  0.017499      0.130624   0.095651   0.108954   \n",
      "HLA.DRB4       0.116352  0.297350      0.135662   0.214760   0.200612   \n",
      "HLA.DRB3       0.017121  0.281227      0.122750   0.305722   0.123805   \n",
      "\n",
      "              LOC284600  LOC100130417    SAMD11     NOC2L    KLHL17  ...  \\\n",
      "LOC729737      0.289070      0.160054  0.017127  0.063361  0.260618  ...   \n",
      "CICP3          0.310818      0.301066  0.231691  0.053716  0.010664  ...   \n",
      "LOC101060494   0.087060      0.023906  0.138967  0.116410  0.263763  ...   \n",
      "LINC00115      0.087681      0.122367  0.091873  0.280184  0.038571  ...   \n",
      "LINC01128      0.001999      0.199708  0.274594  0.534803  0.380174  ...   \n",
      "...                 ...           ...       ...       ...       ...  ...   \n",
      "LOC100288966   0.386502      0.197814  0.139318  0.030179  0.194194  ...   \n",
      "KIR2DS1        0.146548      0.128460  0.155598  0.060722  0.031346  ...   \n",
      "MGC70870       0.234227      0.038463  0.071598  0.079822  0.057552  ...   \n",
      "HLA.DRB4       0.226014      0.210215  0.221201  0.250785  0.110611  ...   \n",
      "HLA.DRB3       0.181786      0.176330  0.165938  0.203705  0.052062  ...   \n",
      "\n",
      "                 MAFIP  LOC283788       KIR3DS1  LOC100507412   KIR2DS5  \\\n",
      "LOC729737     0.193563   0.059931  7.245894e-16      0.031984  0.086953   \n",
      "CICP3         0.309732   0.057115  8.500308e-15      0.172573  0.028658   \n",
      "LOC101060494  0.197018   0.063378  4.723841e-16      0.177221  0.137032   \n",
      "LINC00115     0.133614   0.223761  2.664342e-15      0.289952  0.075452   \n",
      "LINC01128     0.158975   0.116199  1.837624e-15      0.030823  0.040755   \n",
      "...                ...        ...           ...           ...       ...   \n",
      "LOC100288966  0.148146   0.154317  3.232853e-15      0.157020  0.182917   \n",
      "KIR2DS1       0.036317   0.022714  4.455386e-16      0.051506  0.255083   \n",
      "MGC70870      0.048716   0.025832  4.018991e-15      0.015343  0.051591   \n",
      "HLA.DRB4      0.052175   0.180360  2.836146e-16      0.292881  0.008901   \n",
      "HLA.DRB3      0.095106   0.011192  3.264999e-17      0.333428  0.052779   \n",
      "\n",
      "              LOC100288966   KIR2DS1  MGC70870  HLA.DRB4  HLA.DRB3  \n",
      "LOC729737         0.020113  0.034720  0.246052  0.116352  0.017121  \n",
      "CICP3             0.330117  0.095736  0.017499  0.297350  0.281227  \n",
      "LOC101060494      0.036669  0.067118  0.130624  0.135662  0.122750  \n",
      "LINC00115         0.128457  0.008014  0.095651  0.214760  0.305722  \n",
      "LINC01128         0.046354  0.157825  0.108954  0.200612  0.123805  \n",
      "...                    ...       ...       ...       ...       ...  \n",
      "LOC100288966      1.000000  0.042648  0.029694  0.009252  0.062519  \n",
      "KIR2DS1           0.042648  1.000000  0.270705  0.052292  0.089013  \n",
      "MGC70870          0.029694  0.270705  1.000000  0.077776  0.063057  \n",
      "HLA.DRB4          0.009252  0.052292  0.077776  1.000000  0.827706  \n",
      "HLA.DRB3          0.062519  0.089013  0.063057  0.827706  1.000000  \n",
      "\n",
      "[23059 rows x 23059 columns]\n"
     ]
    }
   ],
   "source": [
    "cor_matrix = X.corr().abs()\n",
    "print(cor_matrix)"
   ]
  },
  {
   "cell_type": "code",
   "execution_count": 11,
   "id": "0345b12e",
   "metadata": {},
   "outputs": [],
   "source": [
    "# split the dataset\n",
    "from sklearn.model_selection import train_test_split\n",
    "X_train, X_test, y_train, y_test = train_test_split(X, y, test_size=0.20, \n",
    "                                                    shuffle=True, random_state=2)"
   ]
  },
  {
   "cell_type": "code",
   "execution_count": 12,
   "id": "49d42fe2",
   "metadata": {},
   "outputs": [
    {
     "name": "stdout",
     "output_type": "stream",
     "text": [
      "R2 Error : 0.10275135062638596\n"
     ]
    }
   ],
   "source": [
    "rfr =  RandomForestRegressor()\n",
    "\n",
    "rfr.fit(X_train,y_train)\n",
    "\n",
    "y_pred = rfr.predict(X_test)\n",
    "\n",
    "\n",
    "print(\"R2 Error :\" ,r2_score (y_test,y_pred))"
   ]
  },
  {
   "cell_type": "markdown",
   "id": "025654da",
   "metadata": {},
   "source": [
    "### LASSO"
   ]
  },
  {
   "cell_type": "code",
   "execution_count": 13,
   "id": "8679f691",
   "metadata": {},
   "outputs": [],
   "source": [
    "from sklearn.linear_model import Ridge, RidgeCV, ElasticNet, LassoCV, LassoLarsCV\n",
    "from sklearn.model_selection import cross_val_score\n",
    "\n"
   ]
  },
  {
   "cell_type": "code",
   "execution_count": 14,
   "id": "5fbfd2fa",
   "metadata": {},
   "outputs": [],
   "source": [
    "from sklearn.preprocessing import StandardScaler\n",
    "sc = StandardScaler()\n",
    "X_scaled = sc.fit_transform(X)"
   ]
  },
  {
   "cell_type": "code",
   "execution_count": 15,
   "id": "03bb79fa",
   "metadata": {},
   "outputs": [],
   "source": [
    "X_train, X_test, y_train, y_test = train_test_split(X_scaled, y, test_size=0.20, \n",
    "                                                    shuffle=True, random_state=2)"
   ]
  },
  {
   "cell_type": "code",
   "execution_count": 16,
   "id": "19614437",
   "metadata": {},
   "outputs": [
    {
     "name": "stdout",
     "output_type": "stream",
     "text": [
      "Lasso picked 135 variables and eliminated the other 22924 variables\n"
     ]
    },
    {
     "name": "stderr",
     "output_type": "stream",
     "text": [
      "C:\\Users\\kale_\\anaconda3\\envs\\new_stream\\lib\\site-packages\\sklearn\\linear_model\\_coordinate_descent.py:531: ConvergenceWarning: Objective did not converge. You might want to increase the number of iterations. Duality gap: 0.013824024552264027, tolerance: 0.003475808477652696\n",
      "  positive)\n"
     ]
    }
   ],
   "source": [
    "###yooo\n",
    "features = X.columns\n",
    "model_lasso = LassoCV(alphas = [1, 0.1, 0.001, 0.0005]).fit(X_train, y_train)\n",
    "#rmse_cv(model_lasso).mean()\n",
    "coef = pd.Series(model_lasso.coef_, index = features)\n",
    "print(\"Lasso picked \" + str(sum(coef != 0)) + \" variables and eliminated the other \" +  str(sum(coef == 0)) + \" variables\")"
   ]
  },
  {
   "cell_type": "code",
   "execution_count": 34,
   "id": "bef9c427",
   "metadata": {},
   "outputs": [
    {
     "name": "stdout",
     "output_type": "stream",
     "text": [
      "R2 Error : 0.01830265146162069\n"
     ]
    }
   ],
   "source": [
    "y_pred_lasso = model_lasso.predict(X_test)\n",
    "print(\"R2 Error :\" ,r2_score (y_test,y_pred_lasso))\n"
   ]
  },
  {
   "cell_type": "code",
   "execution_count": 35,
   "id": "c0e79548",
   "metadata": {},
   "outputs": [
    {
     "data": {
      "text/plain": [
       "LINC00337       0.026094\n",
       "LOC100132942    0.063610\n",
       "PLA2G2C         0.156274\n",
       "MUL1           -0.008242\n",
       "PFN1P10        -0.024065\n",
       "                  ...   \n",
       "IGLV3.25       -0.011779\n",
       "TYMP            0.000367\n",
       "PPP4R3CP       -0.000380\n",
       "CXorf21         0.017118\n",
       "LOC100287728    0.011754\n",
       "Length: 135, dtype: float64"
      ]
     },
     "execution_count": 35,
     "metadata": {},
     "output_type": "execute_result"
    }
   ],
   "source": [
    "Selected_feat = coef[coef!=0]\n",
    "Selected_feat"
   ]
  },
  {
   "cell_type": "markdown",
   "id": "68913421",
   "metadata": {},
   "source": [
    "### the above are selected gene set less than 200 obtained by LASSO regression with r2 score of 0.018"
   ]
  },
  {
   "cell_type": "markdown",
   "id": "297f345d",
   "metadata": {},
   "source": []
  },
  {
   "cell_type": "code",
   "execution_count": null,
   "id": "9305aa26",
   "metadata": {},
   "outputs": [],
   "source": []
  }
 ],
 "metadata": {
  "kernelspec": {
   "display_name": "Python 3 (ipykernel)",
   "language": "python",
   "name": "python3"
  },
  "language_info": {
   "codemirror_mode": {
    "name": "ipython",
    "version": 3
   },
   "file_extension": ".py",
   "mimetype": "text/x-python",
   "name": "python",
   "nbconvert_exporter": "python",
   "pygments_lexer": "ipython3",
   "version": "3.7.11"
  }
 },
 "nbformat": 4,
 "nbformat_minor": 5
}
